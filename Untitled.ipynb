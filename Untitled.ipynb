{
 "cells": [
  {
   "cell_type": "code",
   "execution_count": 12,
   "id": "62948de6-486e-48a9-8f49-539c7e8a74a1",
   "metadata": {},
   "outputs": [],
   "source": [
    "class Point:\n",
    "\n",
    "    def __init__(self, x, y):\n",
    "        self.x = x\n",
    "        self.y = y\n",
    "        \n",
    "    def fall_in_ractangle(self, rectangle):\n",
    "        if rectangle.lwrleft.x < self.x < rectangle.uprright.x and rectangle.lwrleft.y < self.y < rectangle.uprright.y:\n",
    "            return True\n",
    "        else:\n",
    "            return False\n",
    "\n",
    "class Rectangle:\n",
    "    \n",
    "    def __init__(self, lwrleft, uprright):\n",
    "        self.lwrleft = lwrleft\n",
    "        self.uprright = uprright\n",
    "        \n",
    "    def area(self):\n",
    "        return(self.uprright.x - self.lwrleft.x) * (self.uprright.y - self.lwrleft.y)"
   ]
  },
  {
   "cell_type": "code",
   "execution_count": 14,
   "id": "5fc1bed6-0921-4cc8-9509-cd4d2921d1e3",
   "metadata": {},
   "outputs": [],
   "source": [
    "from random import randint\n",
    "\n",
    "rectangle = Rectangle(\n",
    "    Point(randint(0,9), randint(0,9)),\n",
    "          Point(randint(10,19), randint(10,19)))"
   ]
  },
  {
   "cell_type": "code",
   "execution_count": 15,
   "id": "49476f94",
   "metadata": {},
   "outputs": [
    {
     "name": "stdout",
     "output_type": "stream",
     "text": [
      "Rectangle coordinate:  4 , 1 and 11 , 11\n",
      "Your point was inside rectangle:  True\n",
      "Your area was off by:  4.0\n"
     ]
    }
   ],
   "source": [
    "print(\"Rectangle coordinate: \",\n",
    "      rectangle.lwrleft.x,\",\",\n",
    "      rectangle.lwrleft.y,\"and\",\n",
    "      rectangle.uprright.x,\",\",\n",
    "      rectangle.uprright.y,)\n",
    "\n",
    "user_point = Point(float(input(\"Guess X: \")),\n",
    "                   float(input(\"Guess Y: \")))\n",
    "\n",
    "user_area = float(input(\"Guess Area: \"))\n",
    "\n",
    "print(\"Your point was inside rectangle: \",\n",
    "      user_point.fall_in_ractangle(rectangle))\n",
    "\n",
    "print(\"Your area was off by: \",\n",
    "      rectangle.area() - user_area)"
   ]
  },
  {
   "cell_type": "code",
   "execution_count": null,
   "id": "37708d68-2f26-4a45-bf12-da4db1cae6c8",
   "metadata": {},
   "outputs": [],
   "source": []
  }
 ],
 "metadata": {
  "kernelspec": {
   "display_name": "Python 3 (ipykernel)",
   "language": "python",
   "name": "python3"
  },
  "language_info": {
   "codemirror_mode": {
    "name": "ipython",
    "version": 3
   },
   "file_extension": ".py",
   "mimetype": "text/x-python",
   "name": "python",
   "nbconvert_exporter": "python",
   "pygments_lexer": "ipython3",
   "version": "3.12.2"
  }
 },
 "nbformat": 4,
 "nbformat_minor": 5
}
